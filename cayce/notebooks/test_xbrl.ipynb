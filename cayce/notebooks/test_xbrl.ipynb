{
 "metadata": {
  "language_info": {
   "codemirror_mode": {
    "name": "ipython",
    "version": 3
   },
   "file_extension": ".py",
   "mimetype": "text/x-python",
   "name": "python",
   "nbconvert_exporter": "python",
   "pygments_lexer": "ipython3",
   "version": "3.7.7-final"
  },
  "orig_nbformat": 2,
  "kernelspec": {
   "name": "Python 3.7.7 64-bit ('finance': conda)",
   "display_name": "Python 3.7.7 64-bit ('finance': conda)",
   "metadata": {
    "interpreter": {
     "hash": "ba9eb2eb6e8a67581b0f036b4c1f5dd4ba74dee22066a7e75e302e9dedb5714d"
    }
   }
  }
 },
 "nbformat": 4,
 "nbformat_minor": 2,
 "cells": [
  {
   "cell_type": "code",
   "execution_count": 1,
   "metadata": {},
   "outputs": [],
   "source": [
    "import sys\n",
    "\n",
    "project_root = (\n",
    "    \"/media/andrew/E4AB-09ED/Dev/py/cayce\"\n",
    "    if sys.platform == \"linux\"\n",
    "    else \"F:/Dev/py/cayce\"\n",
    ")\n",
    "if project_root not in sys.path:\n",
    "    sys.path.append(project_root)"
   ]
  },
  {
   "cell_type": "code",
   "execution_count": 6,
   "metadata": {},
   "outputs": [],
   "source": [
    "from bs4 import BeautifulSoup\n",
    "import re\n",
    "import datetime as dt"
   ]
  },
  {
   "cell_type": "code",
   "execution_count": 3,
   "metadata": {
    "tags": []
   },
   "outputs": [],
   "source": [
    "file_name = 'f:/data/edgar/TAKE_TWO_INTERACTIVE_SOFTWARE_INC_10-Q_20200804.xml'"
   ]
  },
  {
   "cell_type": "code",
   "execution_count": 4,
   "metadata": {},
   "outputs": [],
   "source": [
    "# start reading and parsing this file\n",
    "with open(file_name, mode='r') as fin:\n",
    "    contents = fin.read()\n",
    "soup = BeautifulSoup(contents, 'lxml')"
   ]
  },
  {
   "cell_type": "code",
   "execution_count": 7,
   "metadata": {
    "tags": []
   },
   "outputs": [
    {
     "output_type": "execute_result",
     "data": {
      "text/plain": "{&#39;i26f3b0b908aa44f384c66fa4f0f7584d_D20200401-20200630&#39;: (datetime.date(2020, 4, 1),\n  datetime.date(2020, 6, 30)),\n &#39;ic86e7fcbd43348a799169a1b3a60399a_I20200723&#39;: datetime.date(2020, 7, 23),\n &#39;i7882f3d565104f6abf829111db999509_I20200630&#39;: datetime.date(2020, 6, 30),\n &#39;ie3773fdd302b4c7bb69aeb58ae61a245_I20200331&#39;: datetime.date(2020, 3, 31),\n &#39;i04c41c540c0d4222a54765222ef85672_D20190401-20190630&#39;: (datetime.date(2019, 4, 1),\n  datetime.date(2019, 6, 30)),\n &#39;i5aed14e2b37a436ba8fa1d5b88a07f63_I20190331&#39;: datetime.date(2019, 3, 31),\n &#39;iadfb3f2af10448b9a9d5bdd01d5cf8ab_I20190630&#39;: datetime.date(2019, 6, 30)}"
     },
     "metadata": {},
     "execution_count": 7
    }
   ],
   "source": [
    "re_date_strip=re.compile('[^\\d]+')\n",
    "def _parse_date(date_str:str)->dt.date:\n",
    "    stripped_date_str=re_date_strip.sub('',date_str)[:8]\n",
    "    return dt.datetime.strptime(stripped_date_str,'%Y%m%d').date()\n",
    "\n",
    "# get relevant contexts\n",
    "context_elements = soup.find_all(name=re.compile('context', re.IGNORECASE|re.MULTILINE))\n",
    "relevant_contexts = {}\n",
    "for context_element in context_elements:\n",
    "    context_id = context_element.attrs['id']\n",
    "\n",
    "    entity_element = context_element.find('entity')\n",
    "    if entity_element is not None:\n",
    "        if entity_element.find('segment') is not None:\n",
    "            # don't care about contexts that apply to a given segment\n",
    "            continue\n",
    "\n",
    "    period_element=context_element.find('period')\n",
    "    if  period_element is not None:\n",
    "        instant_element = period_element.find('instant')\n",
    "        if instant_element is not None:\n",
    "            relevant_contexts[context_id]=_parse_date(instant_element.text)\n",
    "        else:\n",
    "            start_date_element=period_element.find('startdate')\n",
    "            start_date=_parse_date(start_date_element.text) if start_date_element is not None else None\n",
    "            \n",
    "            end_date_element=period_element.find('enddate')\n",
    "            end_date=_parse_date(end_date_element.text) if end_date_element is not None else None\n",
    "\n",
    "            relevant_contexts[context_id]=(start_date,end_date)\n",
    "\n",
    "relevant_contexts\n"
   ]
  },
  {
   "cell_type": "code",
   "execution_count": 18,
   "metadata": {
    "tags": []
   },
   "outputs": [
    {
     "output_type": "execute_result",
     "data": {
      "text/plain": "5, 0.0);text-align:left;vertical-align:bottom;border-top:1pt solid #000000;border-bottom:3pt double #000000;padding-left:1pt;&quot;&gt;&lt;span style=&quot;font-size:10pt;font-weight:700;font-family:\\&#39;Times New Roman\\&#39;,sans-serif;color:#000000;background-color:rgb(255,255,255, 0.0);&quot;&gt;$&lt;/span&gt;&lt;/td&gt;&lt;td style=&quot;padding-top:2px;padding-bottom:2px;background-color:rgb(255,255,255, 0.0);text-align:right;vertical-align:bottom;border-top:1pt solid #000000;border-bottom:3pt double #000000;padding-right:0%;&quot;&gt;&lt;span style=&quot;font-size:10pt;font-weight:700;font-family:\\&#39;Times New Roman\\&#39;,sans-serif;color:#000000;background-color:rgb(255,255,255, 0.0);&quot;&gt;409,962\\xa0&lt;/span&gt;&lt;/td&gt;&lt;td style=&quot;padding-top:2px;padding-bottom:2px;background-color:rgb(255,255,255, 0.0);text-align:right;vertical-align:bottom;border-top:1pt solid #000000;border-bottom:3pt double #000000;padding-right:1pt;&quot;&gt;&lt;span style=&quot;font-size:10pt;font-weight:700;font-family:\\&#39;Times New Roman\\&#39;,sans-serif;color:#000000;background-color:rgb(255,255,255, 0.0);&quot;&gt;\\xa0&lt;/span&gt;&lt;/td&gt;&lt;td colspan=&quot;3&quot; style=&quot;background-color:rgb(255,255,255, 0.0);text-align:left;vertical-align:bottom;padding-left:1pt;padding-right:1pt;&quot;/&gt;&lt;td style=&quot;padding-top:2px;padding-bottom:2px;background-color:rgb(255,255,255, 0.0);text-align:left;vertical-align:bottom;border-top:1pt solid #000000;border-bottom:3pt double #000000;padding-left:1pt;&quot;&gt;&lt;span style=&quot;font-size:10pt;font-weight:400;font-family:\\&#39;Times New Roman\\&#39;,sans-serif;color:#000000;background-color:rgb(255,255,255, 0.0);&quot;&gt;$&lt;/span&gt;&lt;/td&gt;&lt;td style=&quot;padding-top:2px;padding-bottom:2px;background-color:rgb(255,255,255, 0.0);text-align:right;vertical-align:bottom;border-top:1pt solid #000000;border-bottom:3pt double #000000;padding-right:0%;&quot;&gt;&lt;span style=&quot;font-size:10pt;font-weight:400;font-family:\\&#39;Times New Roman\\&#39;,sans-serif;color:#000000;background-color:rgb(255,255,255, 0.0);&quot;&gt;40,316\\xa0&lt;/span&gt;&lt;/td&gt;&lt;td style=&quot;padding-top:2px;padding-bottom:2px;background-color:rgb(255,255,255, 0.0);text-align:right;vertical-align:bottom;border-top:1pt solid #000000;border-bottom:3pt double #000000;padding-right:1pt;&quot;&gt;&lt;span style=&quot;font-size:10pt;font-weight:400;font-family:\\&#39;Times New Roman\\&#39;,sans-serif;color:#000000;background-color:rgb(255,255,255, 0.0);&quot;&gt;\\xa0&lt;/span&gt;&lt;/td&gt;&lt;td colspan=&quot;3&quot; style=&quot;background-color:rgb(255,255,255, 0.0);text-align:left;vertical-align:bottom;padding-left:1pt;padding-right:1pt;&quot;/&gt;&lt;td style=&quot;padding-top:2px;padding-bottom:2px;background-color:rgb(255,255,255, 0.0);text-align:left;vertical-align:bottom;border-top:1pt solid #000000;border-bottom:3pt double #000000;padding-left:1pt;&quot;&gt;&lt;span style=&quot;font-size:10pt;font-weight:400;font-family:\\&#39;Times New Roman\\&#39;,sans-serif;color:#000000;background-color:rgb(255,255,255, 0.0);&quot;&gt;$&lt;/span&gt;&lt;/td&gt;&lt;td style=&quot;padding-top:2px;padding-bottom:2px;background-color:rgb(255,255,255, 0.0);text-align:right;vertical-align:bottom;border-top:1pt solid #000000;border-bottom:3pt double #000000;padding-right:0%;&quot;&gt;&lt;span style=&quot;font-size:10pt;font-weight:400;font-family:\\&#39;Times New Roman\\&#39;,sans-serif;color:#000000;background-color:rgb(255,255,255, 0.0);&quot;&gt;401,778\\xa0&lt;/span&gt;&lt;/td&gt;&lt;td style=&quot;padding-top:2px;padding-bottom:2px;background-color:rgb(255,255,255, 0.0);text-align:right;vertical-align:bottom;border-top:1pt solid #000000;border-bottom:3pt double #000000;padding-right:1pt;&quot;&gt;&lt;span style=&quot;font-size:10pt;font-weight:400;font-family:\\&#39;Times New Roman\\&#39;,sans-serif;color:#000000;background-color:rgb(255,255,255, 0.0);&quot;&gt;\\xa0&lt;/span&gt;&lt;/td&gt;&lt;/tr&gt;&lt;/table&gt;&lt;/div&gt;&#39;,\n  None],\n [&#39;ttwo&#39;,\n  datetime.date(2020, 6, 30),\n  datetime.date(2020, 6, 30),\n  &#39;softwaredevelopmentcostsandlicensescurrent&#39;,\n  &#39;31714000&#39;,\n  &#39;usd&#39;],\n [&#39;ttwo&#39;,\n  datetime.date(2020, 6, 30),\n  datetime.date(2020, 6, 30),\n  &#39;softwaredevelopmentcostsandlicensesnoncurrent&#39;,\n  &#39;409962000&#39;,\n  &#39;usd&#39;],\n [&#39;ttwo&#39;,\n  datetime.date(2020, 3, 31),\n  datetime.date(2020, 3, 31),\n  &#39;softwaredevelopmentcostsandlicensescurrent&#39;,\n  &#39;40316000&#39;,\n  &#39;usd&#39;],\n [&#39;ttwo&#39;,\n  datetime.date(2020, 3, 31),\n  datetime.date(2020, 3, 31),\n  &#39;softwaredevelopmentcostsandlicensesnoncurrent&#39;,\n  &#39;401778000&#39;,\n  &#39;usd&#39;],\n [&#39;ttwo&#39;,\n  datetime.date(2020, 4, 1),\n  datetime.date(2020, 6, 30),\n  &#39;softwaredevelopmentimpairmentcharges&#39;,\n  &#39;19695000&#39;,\n  &#39;usd&#39;],\n [&#39;ttwo&#39;,\n  datetime.date(2020, 4, 1),\n  datetime.date(2020, 6, 30),\n  &#39;accruedexpensesandothercurrentliabilitiesdisclosuretextblock&#39;,\n  &#39;ACCRUED EXPENSES AND OTHER CURRENT LIABILITIES&lt;div style=&quot;text-indent:36pt;margin-top:8pt;margin-bottom:8pt;&quot;&gt;&lt;span style=&quot;background-color:rgb(255,255,255, 0.0);color:#000000;font-family:\\&#39;Times New Roman\\&#39;,sans-serif;font-size:10pt;font-weight:400;line-height:120%;&quot;&gt;Accrued expenses and other current liabilities consisted of the following:&lt;/span&gt;&lt;/div&gt;&lt;div style=&quot;margin-top:8pt;margin-bottom:6pt;&quot;&gt;&lt;table style=&quot;border-collapse:collapse;display:inline-table;vertical-align:top;width:99.853%;&quot;&gt;&lt;tr&gt;&lt;td style=&quot;width:1.0%;&quot;/&gt;&lt;td style=&quot;width:71.206%;&quot;/&gt;&lt;td style=&quot;width:1.0%;&quot;/&gt;&lt;td style=&quot;width:1.0%;&quot;/&gt;&lt;td style=&quot;width:12.202%;&quot;/&gt;&lt;td style=&quot;width:1.0%;&quot;/&gt;&lt;td style=&quot;width:0.1%;&quot;/&gt;&lt;td style=&quot;width:0.824%;&quot;/&gt;&lt;td style=&quot;width:0.1%;&quot;/&gt;&lt;td style=&quot;width:1.0%;&quot;/&gt;&lt;td style=&quot;width:9.568%;&quot;/&gt;&lt;td style=&quot;width:1.0%;&quot;/&gt;&lt;/tr&gt;&lt;tr&gt;&lt;td colspan=&quot;3&quot; style=&quot;padding-top:2px;padding-bottom:2px;background-color:rgb(255,255,255, 0.0);text-align:left;vertical-align:bottom;padding-left:1pt;padding-right:1pt;&quot;&gt;&lt;span style=&quot;font-size:10pt;font-weight:700;font-family:\\&#39;Times New Roman\\&#39;,sans-serif;color:#000000;background-color:rgb(255,255,255, 0.0);&quot;&gt;\\xa0&lt;/span&gt;&lt;/td&gt;&lt;td colspan=&quot;3&quot; style=&quot;padding-top:2px;padding-bottom:2px;background-color:rgb(255,255,255, 0.0);text-align:center;vertical-align:bottom;padding-left:1pt;padding-right:1pt;&quot;&gt;&lt;span style=&quot;font-size:8pt;font-weight:700;font-family:\\&#39;Times New Roman\\&#39;,sans-serif;color:#000000;background-color:rgb(255,255,255, 0.0);&quot;&gt;June 30, 2020&lt;/span&gt;&lt;/td&gt;&lt;td colspan=&quot;3&quot; style=&quot;background-color:rgb(255,255,255, 0.0);text-align:left;vertical-align:bottom;padding-left:1pt;padding-right:1pt;&quot;/&gt;&lt;td colspan=&quot;3&quot; style=&quot;padding-top:2px;padding-bottom:2px;background-color:rgb(255,255,255, 0.0);text-align:center;vertical-align:bottom;padding-left:1pt;padding-right:1pt;&quot;&gt;&lt;span style=&quot;font-size:8pt;font-weight:700;font-family:\\&#39;Times New Roman\\&#39;,sans-serif;color:#000000;background-color:rgb(255,255,255, 0.0);&quot;&gt;March 31, 2020&lt;/span&gt;&lt;/td&gt;&lt;/tr&gt;&lt;tr&gt;&lt;td colspan=&quot;3&quot; style=&quot;padding-top:2px;padding-bottom:2px;background-color:#cceeff;text-align:left;vertical-align:bottom;padding-left:1pt;padding-right:1pt;&quot;&gt;&lt;span style=&quot;font-size:10pt;font-weight:400;font-family:\\&#39;Times New Roman\\&#39;,sans-serif;color:#000000;background-color:rgb(255,255,255, 0.0);&quot;&gt;Software development royalties&lt;/span&gt;&lt;/td&gt;&lt;td colspan=&quot;2&quot; style=&quot;padding-top:2px;padding-bottom:2px;background-color:#cceeff;text-align:right;vertical-align:bottom;border-top:1pt solid #000000;padding-left:1pt;padding-right:0%;&quot;&gt;&lt;span style=&quot;font-size:10pt;font-weight:700;font-family:\\&#39;Times New Roman\\&#39;,sans-serif;color:#000000;background-color:rgb(255,255,255, 0.0);&quot;&gt;793,744\\xa0&lt;/span&gt;&lt;/td&gt;&lt;td style=&quot;padding-top:2px;padding-bottom:2px;background-color:#cceeff;text-align:right;vertical-align:bottom;border-top:1pt solid #000000;padding-right:1pt;&quot;&gt;&lt;span style=&quot;font-size:10pt;font-weight:700;font-family:\\&#39;Times New Roman\\&#39;,sans-serif;color:#000000;background-color:rgb(255,255,255, 0.0);&quot;&gt;\\xa0&lt;/span&gt;&lt;/td&gt;&lt;td colspan=&quot;3&quot; style=&quot;background-color:#cceeff;text-align:left;vertical-align:bottom;padding-left:1pt;padding-right:1pt;&quot;/&gt;&lt;td style=&quot;padding-top:2px;padding-bottom:2px;background-color:#cceeff;text-align:left;vertical-align:bottom;border-top:1pt solid #000000;padding-left:1pt;&quot;&gt;&lt;span style=&quot;font-size:10pt;font-weight:400;font-family:\\&#39;Times New Roman\\&#39;,sans-serif;color:#000000;background-color:rgb(255,255,255, 0.0);&quot;&gt;$&lt;/span&gt;&lt;/td&gt;&lt;td style=&quot;padding-top:2px;padding-bottom:2px;background-color:#cceeff;text-align:right;vertical-align:bottom;border-top:1pt solid #000000;padding-right:0%;&quot;&gt;&lt;span style=&quot;font-size:10pt;font-weight:400;font-family:\\&#39;Times New Roman\\&#39;,sans-serif;color:#000000;background-color:rgb(255,255,255, 0.0);&quot;&gt;822,416\\xa0&lt;/span&gt;&lt;/td&gt;&lt;td style=&quot;padding-top:2px;padding-bottom:2px;background-color:#cceeff;text-align:right;vertical-align:bottom;border-top:1pt solid #000000;padding-right:1pt;&quot;&gt;&lt;span style=&quot;font-size:10pt;font-weight:400;font-family:\\&#39;Times New Roman\\&#39;,sans-serif;color:#000000;background-color:rgb(255,255,255, 0.0);&quot;&gt;\\xa0&lt;/span&gt;&lt;/td&gt;&lt;/tr&gt;&lt;tr&gt;&lt;td colspan=&quot;3&quot; style=&quot;padding-top:2px;padding-bottom:2px;background-color:#ffffff;text-align:left;vertical-align:bottom;padding-left:1pt;padding-right:1pt;&quot;&gt;&lt;span style=&quot;font-size:10pt;font-weight:400;font-family:\\&#39;Times New Roman\\&#39;,sans-serif;color:#000000;background-color:rgb(255,255,255, 0.0);&quot;&gt;Licenses&lt;/span&gt;&lt;/td&gt;&lt;td colspan=&quot;2&quot; style=&quot;padding-top:2px;padding-bottom:2px;background-color:#ffffff;text-align:right;vertical-align:bottom;padding-left:1pt;padding-right:0%;&quot;&gt;&lt;span style=&quot;font-size:10pt;font-weight:700;font-family:\\&#39;Times New Roman\\&#39;,sans-serif;color:#000000;background-color:rgb(255,255,255, 0.0);&quot;&gt;82,916\\xa0&lt;/span&gt;&lt;/td&gt;&lt;td style=&quot;padding-top:2px;padding-bottom:2px;background-color:#ffffff;text-align:right;vertical-align:bottom;padding-right:1pt;&quot;&gt;&lt;span style=&quot;font-size:10pt;font-weight:700;font-family:\\&#39;Times New Roman\\&#39;,sans-serif;color:#000000;background-color:rgb(255,255,255, 0.0);&quot;&gt;\\xa0&lt;/span&gt;&lt;/td&gt;&lt;td colspan=&quot;3&quot; style=&quot;background-color:#ffffff;text-align:left;vertical-align:bottom;padding-left:1pt;padding-right:1pt;&quot;/&gt;&lt;td colspan=&quot;2&quot; style=&quot;padding-top:2px;padding-bottom:2px;background-color:#ffffff;text-align:right;vertical-align:bottom;padding-left:1pt;padding-right:0%;&quot;&gt;&lt;span style=&quot;font-size:10pt;font-weight:400;font-family:\\&#39;Times New Roman\\&#39;,sans-serif;color:#000000;background-color:rgb(255,255,255, 0.0);&quot;&gt;57,651\\xa0&lt;/span&gt;&lt;/td&gt;&lt;td style=&quot;padding-top:2px;padding-bottom:2px;background-color:#ffffff;text-align:right;vertical-align:bottom;padding-right:1pt;&quot;&gt;&lt;span style=&quot;font-size:10pt;font-weight:400;font-family:\\&#39;Times New Roman\\&#39;,sans-serif;color:#000000;background-color:rgb(255,255,255, 0.0);&quot;&gt;\\xa0&lt;/span&gt;&lt;/td&gt;&lt;/tr&gt;&lt;tr&gt;&lt;td colspan=&quot;3&quot; style=&quot;padding-top:2px;padding-bottom:2px;background-color:#cceeff;text-align:left;vertical-align:bottom;padding-left:1pt;padding-right:1pt;&quot;&gt;&lt;span style=&quot;font-size:10pt;font-weight:400;font-family:\\&#39;Times New Roman\\&#39;,sans-serif;color:#000000;background-color:rgb(255,255,255, 0.0);&quot;&gt;Compensation and benefits&lt;/span&gt;&lt;/td&gt;&lt;td colspan=&quot;2&quot; style=&quot;padding-top:2px;padding-bottom:2px;background-color:#cceeff;text-align:right;vertical-align:bottom;padding-left:1pt;padding-right:0%;&quot;&gt;&lt;span style=&quot;font-size:10pt;font-weight:700;font-family:\\&#39;Times New Roman\\&#39;,sans-serif;color:#000000;background-color:rgb(255,255,255, 0.0);&quot;&gt;71,218\\xa0&lt;/span&gt;&lt;/td&gt;&lt;td style=&quot;padding-top:2px;padding-bottom:2px;background-color:#cceeff;text-align:right;vertical-align:bottom;padding-right:1pt;&quot;&gt;&lt;span style=&quot;font-size:10pt;font-weight:700;font-family:\\&#39;Times New Roman\\&#39;,sans-serif;color:#000000;background-color:rgb(255,255,255, 0.0);&quot;&gt;\\xa0&lt;/span&gt;&lt;/td&gt;&lt;td colspan=&quot;3&quot; style=&quot;background-color:#cceeff;text-align:left;vertical-align:bottom;padding-left:1pt;padding-right:1pt;&quot;/&gt;&lt;td colspan=&quot;2&quot; style=&quot;padding-top:2px;padding-bottom:2px;background-color:#cceeff;text-align:right;vertical-align:bottom;padding-left:1pt;padding-right:0%;&quot;&gt;&lt;span style=&quot;font-size:10pt;font-weight:400;font-family:\\&#39;Times New Roman\\&#39;,sans-serif;color:#000000;background-color:rgb(255,255,255, 0.0);&quot;&gt;81,791\\xa0&lt;/span&gt;&lt;/td&gt;&lt;td style=&quot;padding-top:2px;padding-bottom:2px;background-color:#cceeff;text-align:right;vertical-align:bottom;padding-right:1pt;&quot;&gt;&lt;span style=&quot;font-size:10pt;font-weight:400;font-family:\\&#39;Times New Roman\\&#39;,sans-serif;color:#000000;background-color:rgb(255,255,255, 0.0);&quot;&gt;\\xa0&lt;/span&gt;&lt;/td&gt;&lt;/tr&gt;&lt;tr&gt;&lt;td colspan=&quot;3&quot; style=&quot;padding-top:2px;padding-bottom:2px;background-color:#ffffff;text-align:left;vertical-align:bottom;padding-left:1pt;padding-right:1pt;&quot;&gt;&lt;span style=&quot;font-size:10pt;font-weight:400;font-family:\\&#39;Times New Roman\\&#39;,sans-serif;color:#000000;background-color:rgb(255,255,255, 0.0);&quot;&gt;Refund liability&lt;/span&gt;&lt;/td&gt;&lt;td colspan=&quot;2&quot; style=&quot;padding-top:2px;padding-bottom:2px;background-color:#ffffff;text-align:right;vertical-align:bottom;padding-left:1pt;padding-right:0%;&quot;&gt;&lt;span style=&quot;font-size:10pt;font-weight:700;font-family:\\&#39;Times New Roman\\&#39;,sans-serif;color:#000000;background-color:rgb(255,255,255, 0.0);&quot;&gt;54,820\\xa0&lt;/span&gt;&lt;/td&gt;&lt;td style=&quot;padding-top:2px;padding-bottom:2px;background-color:#ffffff;text-align:right;vertical-align:bottom;padding-right:1pt;&quot;&gt;&lt;span style=&quot;font-size:10pt;font-weight:700;font-family:\\&#39;Times New Roman\\&#39;,sans-serif;color:#000000;background-color:rgb(255,255,255, 0.0);&quot;&gt;\\xa0&lt;/span&gt;&lt;/td&gt;&lt;td colspan=&quot;3&quot; style=&quot;background-color:#ffffff;text-align:left;vertical-align:bottom;padding-left:1pt;padding-right:1pt;&quot;/&gt;&lt;td colspan=&quot;2&quot; style=&quot;padding-top:2px;padding-bottom:2px;background-color:#ffffff;text-align:right;vertical-align:bottom;padding-left:1pt;padding-right:0%;&quot;&gt;&lt;span style=&quot;font-size:10pt;font-weight:400;font-family:\\&#39;Times New Roman\\&#39;,sans-serif;color:#000000;background-color:rgb(255,255,255, 0.0);&quot;&gt;77,829\\xa0&lt;/span&gt;&lt;/td&gt;&lt;td style=&quot;padding-top:2px;padding-bottom:2px;background-color:#ffffff;text-align:right;vertical-align:bottom;padding-right:1pt;&quot;&gt;&lt;span style=&quot;font-size:10pt;font-weight:400;font-family:\\&#39;Times New Roman\\&#39;,sans-serif;color:#000000;background-color:rgb(255,255,255, 0.0);&quot;&gt;\\xa0&lt;/span&gt;&lt;/td&gt;&lt;/tr&gt;&lt;tr&gt;&lt;td colspan=&quot;3&quot; style=&quot;padding-top:2px;padding-bottom:2px;background-color:#cceeff;text-align:left;vertical-align:bottom;padding-left:1pt;padding-right:1pt;&quot;&gt;&lt;span style=&quot;font-size:10pt;font-weight:400;font-family:\\&#39;Times New Roman\\&#39;,sans-serif;color:#000000;background-color:rgb(255,255,255, 0.0);&quot;&gt;Marketing and promotions&lt;/span&gt;&lt;/td&gt;&lt;td colspan=&quot;2&quot; style=&quot;padding-top:2px;padding-bottom:2px;background-color:#cceeff;text-align:right;vertical-align:bottom;padding-left:1pt;padding-right:0%;&quot;&gt;&lt;span style=&quot;font-size:10pt;font-weight:700;font-family:\\&#39;Times New Roman\\&#39;,sans-serif;color:#000000;background-color:rgb(255,255,255, 0.0);&quot;&gt;32,684\\xa0&lt;/span&gt;&lt;/td&gt;&lt;td style=&quot;padding-top:2px;padding-bottom:2px;background-color:#cceeff;text-align:right;vertical-align:bottom;padding-right:1pt;&quot;&gt;&lt;span style=&quot;font-size:10pt;font-weight:700;font-family:\\&#39;Times New Roman\\&#39;,sans-serif;color:#000000;background-color:rgb(255,255,255, 0.0);&quot;&gt;\\xa0&lt;/span&gt;&lt;/td&gt;&lt;td colspan=&quot;3&quot; style=&quot;background-color:#cceeff;text-align:left;vertical-align:bottom;padding-left:1pt;padding-right:1pt;&quot;/&gt;&lt;td colspan=&quot;2&quot; style=&quot;padding-top:2px;padding-bottom:2px;background-color:#cceeff;text-align:right;vertical-align:bottom;padding-left:1pt;padding-right:0%;&quot;&gt;&lt;span style=&quot;font-size:10pt;font-weight:400;font-family:\\&#39;Times New Roman\\&#39;,sans-serif;color:#000000;background-color:rgb(255,255,255, 0.0);&quot;&gt;40,797\\xa0&lt;/span&gt;&lt;/td&gt;&lt;td style=&quot;padding-top:2px;padding-bottom:2px;background-color:#cceeff;text-align:right;vertical-align:bottom;padding-right:1pt;&quot;&gt;&lt;span style=&quot;font-size:10pt;font-weight:400;font-family:\\&#39;Times New Roman\\&#39;,sans-serif;color:#000000;background-color:rgb(255,255,255, 0.0);&quot;&gt;\\xa0&lt;/span&gt;&lt;/td&gt;&lt;/tr&gt;&lt;tr&gt;&lt;td colspan=&quot;3&quot; style=&quot;padding-top:2px;padding-bottom:2px;background-color:#ffffff;text-align:left;vertical-align:bottom;padding-left:1pt;padding-right:1pt;&quot;&gt;&lt;span style=&quot;font-size:10pt;font-weight:400;font-family:\\&#39;Times New Roman\\&#39;,sans-serif;color:#000000;background-color:rgb(255,255,255, 0.0);&quot;&gt;Other&lt;/span&gt;&lt;/td&gt;&lt;td colspan=&quot;2&quot; style=&quot;padding-top:2px;padding-bottom:2px;background-color:#ffffff;text-align:right;vertical-align:bottom;padding-left:1pt;padding-right:0%;&quot;&gt;&lt;span style=&quot;font-size:10pt;font-weight:700;font-family:\\&#39;Times New Roman\\&#39;,sans-serif;color:#000000;background-color:rgb(255,255,255, 0.0);&quot;&gt;101,246\\xa0&lt;/span&gt;&lt;/td&gt;&lt;td style=&quot;padding-top:2px;padding-bottom:2px;background-color:#ffffff;text-align:right;vertical-align:bottom;padding-right:1pt;&quot;&gt;&lt;span style=&quot;font-size:10pt;font-weight:700;font-family:\\&#39;Times New Roman\\&#39;,sans-serif;color:#000000;background-color:rgb(255,255,255, 0.0);&quot;&gt;\\xa0&lt;/span&gt;&lt;/td&gt;&lt;td colspan=&quot;3&quot; style=&quot;background-color:#ffffff;text-align:left;vertical-align:bottom;padding-left:1pt;padding-right:1pt;&quot;/&gt;&lt;td colspan=&quot;2&quot; style=&quot;padding-top:2px;padding-bottom:2px;background-color:#ffffff;text-align:right;vertical-align:bottom;padding-left:1pt;padding-right:0%;&quot;&gt;&lt;span style=&quot;font-size:10pt;font-weight:400;font-family:\\&#39;Times New Roman\\&#39;,sans-serif;color:#000000;background-color:rgb(255,255,255, 0.0);&quot;&gt;89,400\\xa0&lt;/span&gt;&lt;/td&gt;&lt;td style=&quot;padding-top:2px;padding-bottom:2px;background-color:#ffffff;text-align:right;vertical-align:bottom;padding-right:1pt;&quot;&gt;&lt;span style=&quot;font-size:10pt;font-weight:400;font-family:\\&#39;Times New Roman\\&#39;,sans-serif;color:#000000;background-color:rgb(255,255,255, 0.0);&quot;&gt;\\xa0&lt;/span&gt;&lt;/td&gt;&lt;/tr&gt;&lt;tr&gt;&lt;td colspan=&quot;3&quot; style=&quot;padding-top:2px;padding-bottom:2px;background-color:#cceeff;text-align:left;vertical-align:bottom;padding-left:1pt;padding-right:1pt;&quot;&gt;&lt;span style=&quot;font-size:10pt;font-weight:400;font-family:\\&#39;Times New Roman\\&#39;,sans-serif;color:#000000;background-color:rgb(255,255,255, 0.0);&quot;&gt;Accrued expenses and other current liabilities&lt;/span&gt;&lt;/td&gt;&lt;td style=&quot;padding-top:2px;padding-bottom:2px;background-color:#cceeff;text-align:left;vertical-align:bottom;border-top:1pt solid #000000;border-bottom:3pt double #000000;padding-left:1pt;&quot;&gt;&lt;span style=&quot;font-size:10pt;font-weight:700;font-family:\\&#39;Times New Roman\\&#39;,sans-serif;color:#000000;background-color:rgb(255,255,255, 0.0);&quot;&gt;$&lt;/span&gt;&lt;/td&gt;&lt;td style=&quot;padding-top:2px;padding-bottom:2px;background-color:#cceeff;text-align:right;vertical-align:bottom;border-top:1pt solid #000000;border-bottom:3pt double #000000;padding-right:0%;&quot;&gt;&lt;span style=&quot;font-size:10pt;font-weight:700;font-family:\\&#39;Times New Roman\\&#39;,sans-serif;color:#000000;background-color:rgb(255,255,255, 0.0);&quot;&gt;1,136,628\\xa0&lt;/span&gt;&lt;/td&gt;&lt;td style=&quot;padding-top:2px;padding-bottom:2px;background-color:#cceeff;text-align:right;vertical-align:bottom;border-top:1pt solid #000000;border-bottom:3pt double #000000;padding-right:1pt;&quot;&gt;&lt;span style=&quot;font-size:10pt;font-weight:700;font-family:\\&#39;Times New Roman\\&#39;,sans-serif;color:#000000;background-color:rgb(255,255,255, 0.0);&quot;&gt;\\xa0&lt;/span&gt;&lt;/td&gt;&lt;td colspan=&quot;3&quot; style=&quot;background-color:#cceeff;text-align:left;vertical-align:bottom;padding-left:1pt;padding-right:1pt;&quot;/&gt;&lt;td style=&quot;padding-top:2px;padding-bottom:2px;background-color:#cceeff;text-align:left;vertical-align:bottom;border-top:1pt solid #000000;border-bottom:3pt double #000000;padding-left:1pt;&quot;&gt;&lt;span style=&quot;font-size:10pt;font-weight:400;font-family:\\&#39;Times New Roman\\&#39;,sans-serif;color:#000000;background-color:rgb(255,255,255, 0.0);&quot;&gt;$&lt;/span&gt;&lt;/td&gt;&lt;td style=&quot;padding-top:2px;padding-bottom:2px;background-color:#cceeff;text-align:right;vertical-align:bottom;border-top:1pt solid #000000;border-bottom:3pt double #000000;padding-right:0%;&quot;&gt;&lt;span style=&quot;font-size:10pt;font-weight:400;font-family:\\&#39;Times New Roman\\&#39;,sans-serif;color:#000000;background-color:rgb(255,255,255, 0.0);&quot;&gt;1,169,884\\xa0&lt;/span&gt;&lt;/td&gt;&lt;td style=&quot;padding-top:2px;padding-bottom:2px;background-color:#cceeff;text-align:right;vertical-align:bottom;border-top:1pt solid #000000;border-bottom:3pt double #000000;padding-right:1pt;&quot;&gt;&lt;span style=&quot;font-size:10pt;font-weight:400;font-family:\\&#39;Times New Roman\\&#39;,sans-serif;color:#000000;background-color:rgb(255,255,255, 0.0);&quot;&gt;\\xa0&lt;/span&gt;&lt;/td&gt;&lt;/tr&gt;&lt;/table&gt;&lt;/div&gt;&#39;,\n  None],\n [&#39;ttwo&#39;,\n  datetime.date(2020, 6, 30),\n  datetime.date(2020, 6, 30),\n  &#39;accruedlicensescurrent&#39;,\n  &#39;82916000&#39;,\n  &#39;usd&#39;],\n [&#39;ttwo&#39;,\n  datetime.date(2020, 3, 31),\n  datetime.date(2020, 3, 31),\n  &#39;accruedlicensescurrent&#39;,\n  &#39;57651000&#39;,\n  &#39;usd&#39;],\n [&#39;ttwo&#39;,\n  datetime.date(2020, 4, 1),\n  datetime.date(2020, 6, 30),\n  &#39;weightedaveragenumberofsharesoutstandingbasicnet&#39;,\n  &#39;113862000&#39;,\n  &#39;shares&#39;],\n [&#39;ttwo&#39;,\n  datetime.date(2019, 4, 1),\n  datetime.date(2019, 6, 30),\n  &#39;weightedaveragenumberofsharesoutstandingbasicnet&#39;,\n  &#39;112621000&#39;,\n  &#39;shares&#39;]]"
     },
     "metadata": {},
     "execution_count": 18
    }
   ],
   "source": [
    "ticker = 'ttwo'\n",
    "company_specific_tags = soup.find_all(name=re.compile(f\"{ticker}:.*\", re.IGNORECASE))\n",
    "\n",
    "# build a DataFrame, ticker, period start, period end, attribute name, attribute value\n",
    "rows = []\n",
    "for tag in company_specific_tags:\n",
    "    if tag.text.isnumeric():\n",
    "        # not bothering to track any attributes that are free-form text for now\n",
    "        if 'contextref' in tag.attrs and tag['contextref'] in relevant_contexts:\n",
    "            # get context period\n",
    "            period = relevant_contexts[tag['contextref']]\n",
    "            if type(period) == dt.date:\n",
    "                start_date = period\n",
    "                end_date = period\n",
    "            else:\n",
    "                start_date, end_date = period\n",
    "            # get currency, if found\n",
    "            currency = tag['unitref'] if 'unitref' in tag.attrs else None\n",
    "            \n",
    "            value = float(tag.text)\n",
    "            rows.append([ticker, start_date, end_date, tag.name[len(ticker)+1:], value, currency])\n",
    "rows"
   ]
  },
  {
   "cell_type": "code",
   "execution_count": 66,
   "metadata": {},
   "outputs": [
    {
     "output_type": "execute_result",
     "data": {
      "text/plain": "re.compile(r'[^\\d]+', re.UNICODE)"
     },
     "metadata": {},
     "execution_count": 66
    }
   ],
   "source": [
    "d = '2020-09-25'\n",
    "re.compile('[^\\d]+').sub('',d)"
   ]
  }
 ]
}