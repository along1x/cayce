{
 "metadata": {
  "language_info": {
   "codemirror_mode": {
    "name": "ipython",
    "version": 3
   },
   "file_extension": ".py",
   "mimetype": "text/x-python",
   "name": "python",
   "nbconvert_exporter": "python",
   "pygments_lexer": "ipython3",
   "version": "3.7.7-final"
  },
  "orig_nbformat": 2,
  "kernelspec": {
   "name": "Python 3.7.7 64-bit ('finance': conda)",
   "display_name": "Python 3.7.7 64-bit ('finance': conda)",
   "metadata": {
    "interpreter": {
     "hash": "ba9eb2eb6e8a67581b0f036b4c1f5dd4ba74dee22066a7e75e302e9dedb5714d"
    }
   }
  }
 },
 "nbformat": 4,
 "nbformat_minor": 2,
 "cells": [
  {
   "cell_type": "code",
   "execution_count": 1,
   "metadata": {},
   "outputs": [],
   "source": [
    "import sys\n",
    "\n",
    "project_root = (\n",
    "    \"/media/andrew/E4AB-09ED/Dev/py/cayce\"\n",
    "    if sys.platform == \"linux\"\n",
    "    else \"F:/Dev/py/cayce\"\n",
    ")\n",
    "if project_root not in sys.path:\n",
    "    sys.path.append(project_root)"
   ]
  },
  {
   "cell_type": "code",
   "execution_count": 2,
   "metadata": {},
   "outputs": [],
   "source": [
    "from bs4 import BeautifulSoup\n",
    "from bs4.element import Tag\n",
    "import re\n",
    "import datetime as dt\n",
    "import pandas as pd\n",
    "from typing import Dict, Any, List, Union, Tuple"
   ]
  },
  {
   "cell_type": "code",
   "execution_count": 3,
   "metadata": {
    "tags": []
   },
   "outputs": [],
   "source": [
    "file_name = 'f:/data/edgar/TAKE_TWO_INTERACTIVE_SOFTWARE_INC_10-Q_20200804.xml'"
   ]
  },
  {
   "cell_type": "code",
   "execution_count": 4,
   "metadata": {},
   "outputs": [],
   "source": [
    "# start reading and parsing this file\n",
    "with open(file_name, mode='r') as fin:\n",
    "    contents = fin.read()\n",
    "soup = BeautifulSoup(contents, 'lxml')"
   ]
  },
  {
   "cell_type": "code",
   "execution_count": 7,
   "metadata": {
    "tags": []
   },
   "outputs": [
    {
     "output_type": "execute_result",
     "data": {
      "text/plain": "{&#39;i26f3b0b908aa44f384c66fa4f0f7584d_D20200401-20200630&#39;: (datetime.date(2020, 4, 1),\n  datetime.date(2020, 6, 30)),\n &#39;ic86e7fcbd43348a799169a1b3a60399a_I20200723&#39;: datetime.date(2020, 7, 23),\n &#39;i7882f3d565104f6abf829111db999509_I20200630&#39;: datetime.date(2020, 6, 30),\n &#39;ie3773fdd302b4c7bb69aeb58ae61a245_I20200331&#39;: datetime.date(2020, 3, 31),\n &#39;i04c41c540c0d4222a54765222ef85672_D20190401-20190630&#39;: (datetime.date(2019, 4, 1),\n  datetime.date(2019, 6, 30)),\n &#39;i5aed14e2b37a436ba8fa1d5b88a07f63_I20190331&#39;: datetime.date(2019, 3, 31),\n &#39;iadfb3f2af10448b9a9d5bdd01d5cf8ab_I20190630&#39;: datetime.date(2019, 6, 30)}"
     },
     "metadata": {},
     "execution_count": 7
    }
   ],
   "source": [
    "re_date_strip=re.compile('[^\\d]+')\n",
    "def _parse_date(date_str:str)->dt.date:\n",
    "    stripped_date_str=re_date_strip.sub('',date_str)[:8]\n",
    "    return dt.datetime.strptime(stripped_date_str,'%Y%m%d').date()\n",
    "\n",
    "# get relevant contexts\n",
    "context_elements = soup.find_all(name=re.compile('context', re.IGNORECASE|re.MULTILINE))\n",
    "relevant_contexts = {}\n",
    "for context_element in context_elements:\n",
    "    context_id = context_element.attrs['id']\n",
    "\n",
    "    entity_element = context_element.find('entity')\n",
    "    if entity_element is not None:\n",
    "        if entity_element.find('segment') is not None:\n",
    "            # don't care about contexts that apply to a given segment\n",
    "            continue\n",
    "\n",
    "    period_element=context_element.find('period')\n",
    "    if  period_element is not None:\n",
    "        instant_element = period_element.find('instant')\n",
    "        if instant_element is not None:\n",
    "            relevant_contexts[context_id]=_parse_date(instant_element.text)\n",
    "        else:\n",
    "            start_date_element=period_element.find('startdate')\n",
    "            start_date=_parse_date(start_date_element.text) if start_date_element is not None else None\n",
    "            \n",
    "            end_date_element=period_element.find('enddate')\n",
    "            end_date=_parse_date(end_date_element.text) if end_date_element is not None else None\n",
    "\n",
    "            relevant_contexts[context_id]=(start_date,end_date)\n",
    "\n",
    "relevant_contexts\n"
   ]
  },
  {
   "cell_type": "code",
   "execution_count": 25,
   "metadata": {
    "tags": []
   },
   "outputs": [],
   "source": [
    "ticker = 'ttwo'\n",
    "company_specific_tags = soup.find_all(name=re.compile(f\"{ticker}:.*\", re.IGNORECASE))\n",
    "\n",
    "# build a DataFrame, ticker, period start, period end, attribute name, attribute value, currency\n",
    "rows = []\n",
    "for tag in company_specific_tags:\n",
    "    if tag.text.isnumeric():\n",
    "        # not bothering to track any attributes that are free-form text for now\n",
    "        if 'contextref' in tag.attrs and tag['contextref'] in relevant_contexts:\n",
    "            # get context period\n",
    "            period = relevant_contexts[tag['contextref']]\n",
    "            start_date, end_date = (None, period) if type(period) == dt.date else period\n",
    "            # get currency, if found\n",
    "            currency = tag['unitref'].upper() if 'unitref' in tag.attrs else None\n",
    "            \n",
    "            value = float(tag.text)\n",
    "            rows.append([ticker, start_date, end_date, tag.name[len(ticker)+1:], value, currency])\n",
    "company_specific_attributes = pd.DataFrame(rows, columns=['Ticker', 'PeriodStart', 'PeriodEnd', 'AttributeName', 'AttributeValue', 'Currency'])"
   ]
  },
  {
   "cell_type": "code",
   "execution_count": 33,
   "metadata": {},
   "outputs": [],
   "source": [
    "from collections import namedtuple\n",
    "\n",
    "ParsedTag = namedtuple(\n",
    "    \"ParsedTag\", [\"period_start\", \"period_end\", \"attribute\", \"value\", \"currency\"]\n",
    ")\n",
    "\n",
    "\n",
    "def _parse_tag(\n",
    "    tag: Tag, ticker: str, relevant_contexts: Dict[str, Tuple[dt.date, dt.date]],\n",
    ") -> ParsedTag:\n",
    "    \"\"\"\n",
    "    Take a tag and pull out the context, value, and currency (if applicable)\n",
    "    \"\"\"\n",
    "    if \"contextref\" not in tag.attrs or tag[\"contextref\"] not in relevant_contexts:\n",
    "        return None\n",
    "\n",
    "    # get context period\n",
    "    period = relevant_contexts[tag[\"contextref\"]]\n",
    "    start_date, end_date = (None, period) if type(period) == dt.date else period\n",
    "    # get currency, if available\n",
    "    currency = tag[\"unitref\"].upper() if \"unitref\" in tag.attrs else None\n",
    "\n",
    "    value = float(tag.text) if tag.text.isnumeric() else tag.text\n",
    "    return ParsedTag(\n",
    "        period_start=start_date,\n",
    "        period_end=end_date,\n",
    "        attribute=tag.name[len(ticker) + 1 :],\n",
    "        value=value,\n",
    "        currency=currency,\n",
    "    )"
   ]
  },
  {
   "cell_type": "code",
   "execution_count": 35,
   "metadata": {},
   "outputs": [
    {
     "output_type": "execute_result",
     "data": {
      "text/plain": "{(datetime.date(2020, 4, 1),\n  datetime.date(2020, 6, 30)): {&#39;documenttype&#39;: &#39;10-Q&#39;, &#39;documentperiodenddate&#39;: &#39;2020-06-30&#39;, &#39;entityregistrantname&#39;: &#39;TAKE-TWO INTERACTIVE SOFTWARE,\\xa0INC.&#39;, &#39;tradingsymbol&#39;: &#39;TTWO&#39;, &#39;securityexchangename&#39;: &#39;NASDAQ&#39;},\n (None,\n  datetime.date(2020, 7, 23)): {&#39;entitycommonstocksharesoutstanding&#39;: 114338838.0}}"
     },
     "metadata": {},
     "execution_count": 35
    }
   ],
   "source": [
    "# extract some header data\n",
    "header_tag_labels = [\n",
    "    'dei:DocumentType',\n",
    "    'dei:DocumentPeriodEndDate',\n",
    "    'dei:EntityRegistrantName',\n",
    "    'dei:TradingSymbol',\n",
    "    'dei:SecurityExchangeName',\n",
    "    'dei:EntityCommonStockSharesOutstanding',\n",
    "]\n",
    "\n",
    "header = {}\n",
    "for tag_label in header_tag_labels:\n",
    "    tags = soup.find_all(name=re.compile(tag_label, re.IGNORECASE))\n",
    "\n",
    "    for tag in tags:\n",
    "        parsed_tag = _parse_tag(tag, 'dei', relevant_contexts)\n",
    "\n",
    "        period_key = (parsed_tag.period_start, parsed_tag.period_end)\n",
    "        if period_key not in header:\n",
    "            header[period_key] = {}\n",
    "        \n",
    "        header[period_key][parsed_tag.attribute] = parsed_tag.value\n",
    "\n",
    "header\n"
   ]
  },
  {
   "cell_type": "code",
   "execution_count": 46,
   "metadata": {},
   "outputs": [],
   "source": [
    "def _get_attribute_values_df(soup:BeautifulSoup,tag_labels:str,ticker:str):\n",
    "    rows = []\n",
    "    processed_elements = set()\n",
    "    for tag_label in tag_labels:\n",
    "        tags = soup.find_all(name=re.compile(tag_label, re.IGNORECASE))\n",
    "\n",
    "        for tag in tags:\n",
    "            if tag.text.isnumeric():\n",
    "                # not bothering to track any attributes that are free-form text for now\n",
    "                if 'contextref' in tag.attrs and tag['contextref'] in relevant_contexts:\n",
    "                    element_id = (tag_label, tag['contextref'])\n",
    "                    if element_id in processed_elements:\n",
    "                        continue\n",
    "                    processed_elements.add(element_id)\n",
    "\n",
    "                    # get context period\n",
    "                    period = relevant_contexts[tag['contextref']]\n",
    "                    start_date, end_date = (None, period) if type(period) == dt.date else period\n",
    "                    # get currency, if found\n",
    "                    currency = tag['unitref'].upper() if 'unitref' in tag.attrs else None\n",
    "                    \n",
    "                    value = float(tag.text)\n",
    "                    rows.append([ticker, start_date, end_date, tag.name.split(':')[1], value, currency])\n",
    "    return pd.DataFrame(rows, columns=['Ticker', 'PeriodStart', 'PeriodEnd', 'AttributeName', 'AttributeValue', 'Currency'])"
   ]
  },
  {
   "cell_type": "code",
   "execution_count": 47,
   "metadata": {
    "tags": []
   },
   "outputs": [
    {
     "output_type": "execute_result",
     "data": {
      "text/plain": "   Ticker PeriodStart   PeriodEnd  \\\n0    ttwo  2020-04-01  2020-06-30   \n1    ttwo  2019-04-01  2019-06-30   \n2    ttwo  2020-04-01  2020-06-30   \n3    ttwo  2019-04-01  2019-06-30   \n4    ttwo  2020-04-01  2020-06-30   \n5    ttwo  2019-04-01  2019-06-30   \n6    ttwo  2020-04-01  2020-06-30   \n7    ttwo  2019-04-01  2019-06-30   \n8    ttwo  2020-04-01  2020-06-30   \n9    ttwo  2019-04-01  2019-06-30   \n10   ttwo  2020-04-01  2020-06-30   \n11   ttwo  2019-04-01  2019-06-30   \n12   ttwo  2020-04-01  2020-06-30   \n13   ttwo  2019-04-01  2019-06-30   \n14   ttwo  2020-04-01  2020-06-30   \n15   ttwo  2019-04-01  2019-06-30   \n16   ttwo  2020-04-01  2020-06-30   \n17   ttwo  2019-04-01  2019-06-30   \n18   ttwo  2020-04-01  2020-06-30   \n19   ttwo  2019-04-01  2019-06-30   \n20   ttwo  2020-04-01  2020-06-30   \n21   ttwo  2019-04-01  2019-06-30   \n22   ttwo  2020-04-01  2020-06-30   \n23   ttwo  2019-04-01  2019-06-30   \n\n                                        AttributeName  AttributeValue Currency  \n0                          costofgoodsandservicessold     476689000.0      USD  \n1                          costofgoodsandservicessold     241469000.0      USD  \n2                                         grossprofit     354621000.0      USD  \n3                                         grossprofit     298990000.0      USD  \n4                          sellingandmarketingexpense      84779000.0      USD  \n5                          sellingandmarketingexpense      91821000.0      USD  \n6                     generalandadministrativeexpense     102173000.0      USD  \n7                     generalandadministrativeexpense      74833000.0      USD  \n8                                   operatingexpenses     272478000.0      USD  \n9                                   operatingexpenses     247260000.0      USD  \n10                                operatingincomeloss      82143000.0      USD  \n11                                operatingincomeloss      51730000.0      USD  \n12                     othernonoperatingincomeexpense       8218000.0      USD  \n13                     othernonoperatingincomeexpense      10425000.0      USD  \n14                            incometaxexpensebenefit       1856000.0      USD  \n15                            incometaxexpensebenefit      15875000.0      USD  \n16  incomelossfromcontinuingoperationsbeforeincome...      90361000.0      USD  \n17  incomelossfromcontinuingoperationsbeforeincome...      62155000.0      USD  \n18                                      netincomeloss      88505000.0      USD  \n19                                      netincomeloss      46280000.0      USD  \n20      weightedaveragenumberofsharesoutstandingbasic     113862000.0   SHARES  \n21      weightedaveragenumberofsharesoutstandingbasic     112621000.0   SHARES  \n22    weightedaveragenumberofdilutedsharesoutstanding     114956000.0   SHARES  \n23    weightedaveragenumberofdilutedsharesoutstanding     113728000.0   SHARES  ",
      "text/html": "<div>\n<style scoped>\n    .dataframe tbody tr th:only-of-type {\n        vertical-align: middle;\n    }\n\n    .dataframe tbody tr th {\n        vertical-align: top;\n    }\n\n    .dataframe thead th {\n        text-align: right;\n    }\n</style>\n<table border=\"1\" class=\"dataframe\">\n  <thead>\n    <tr style=\"text-align: right;\">\n      <th></th>\n      <th>Ticker</th>\n      <th>PeriodStart</th>\n      <th>PeriodEnd</th>\n      <th>AttributeName</th>\n      <th>AttributeValue</th>\n      <th>Currency</th>\n    </tr>\n  </thead>\n  <tbody>\n    <tr>\n      <th>0</th>\n      <td>ttwo</td>\n      <td>2020-04-01</td>\n      <td>2020-06-30</td>\n      <td>costofgoodsandservicessold</td>\n      <td>476689000.0</td>\n      <td>USD</td>\n    </tr>\n    <tr>\n      <th>1</th>\n      <td>ttwo</td>\n      <td>2019-04-01</td>\n      <td>2019-06-30</td>\n      <td>costofgoodsandservicessold</td>\n      <td>241469000.0</td>\n      <td>USD</td>\n    </tr>\n    <tr>\n      <th>2</th>\n      <td>ttwo</td>\n      <td>2020-04-01</td>\n      <td>2020-06-30</td>\n      <td>grossprofit</td>\n      <td>354621000.0</td>\n      <td>USD</td>\n    </tr>\n    <tr>\n      <th>3</th>\n      <td>ttwo</td>\n      <td>2019-04-01</td>\n      <td>2019-06-30</td>\n      <td>grossprofit</td>\n      <td>298990000.0</td>\n      <td>USD</td>\n    </tr>\n    <tr>\n      <th>4</th>\n      <td>ttwo</td>\n      <td>2020-04-01</td>\n      <td>2020-06-30</td>\n      <td>sellingandmarketingexpense</td>\n      <td>84779000.0</td>\n      <td>USD</td>\n    </tr>\n    <tr>\n      <th>5</th>\n      <td>ttwo</td>\n      <td>2019-04-01</td>\n      <td>2019-06-30</td>\n      <td>sellingandmarketingexpense</td>\n      <td>91821000.0</td>\n      <td>USD</td>\n    </tr>\n    <tr>\n      <th>6</th>\n      <td>ttwo</td>\n      <td>2020-04-01</td>\n      <td>2020-06-30</td>\n      <td>generalandadministrativeexpense</td>\n      <td>102173000.0</td>\n      <td>USD</td>\n    </tr>\n    <tr>\n      <th>7</th>\n      <td>ttwo</td>\n      <td>2019-04-01</td>\n      <td>2019-06-30</td>\n      <td>generalandadministrativeexpense</td>\n      <td>74833000.0</td>\n      <td>USD</td>\n    </tr>\n    <tr>\n      <th>8</th>\n      <td>ttwo</td>\n      <td>2020-04-01</td>\n      <td>2020-06-30</td>\n      <td>operatingexpenses</td>\n      <td>272478000.0</td>\n      <td>USD</td>\n    </tr>\n    <tr>\n      <th>9</th>\n      <td>ttwo</td>\n      <td>2019-04-01</td>\n      <td>2019-06-30</td>\n      <td>operatingexpenses</td>\n      <td>247260000.0</td>\n      <td>USD</td>\n    </tr>\n    <tr>\n      <th>10</th>\n      <td>ttwo</td>\n      <td>2020-04-01</td>\n      <td>2020-06-30</td>\n      <td>operatingincomeloss</td>\n      <td>82143000.0</td>\n      <td>USD</td>\n    </tr>\n    <tr>\n      <th>11</th>\n      <td>ttwo</td>\n      <td>2019-04-01</td>\n      <td>2019-06-30</td>\n      <td>operatingincomeloss</td>\n      <td>51730000.0</td>\n      <td>USD</td>\n    </tr>\n    <tr>\n      <th>12</th>\n      <td>ttwo</td>\n      <td>2020-04-01</td>\n      <td>2020-06-30</td>\n      <td>othernonoperatingincomeexpense</td>\n      <td>8218000.0</td>\n      <td>USD</td>\n    </tr>\n    <tr>\n      <th>13</th>\n      <td>ttwo</td>\n      <td>2019-04-01</td>\n      <td>2019-06-30</td>\n      <td>othernonoperatingincomeexpense</td>\n      <td>10425000.0</td>\n      <td>USD</td>\n    </tr>\n    <tr>\n      <th>14</th>\n      <td>ttwo</td>\n      <td>2020-04-01</td>\n      <td>2020-06-30</td>\n      <td>incometaxexpensebenefit</td>\n      <td>1856000.0</td>\n      <td>USD</td>\n    </tr>\n    <tr>\n      <th>15</th>\n      <td>ttwo</td>\n      <td>2019-04-01</td>\n      <td>2019-06-30</td>\n      <td>incometaxexpensebenefit</td>\n      <td>15875000.0</td>\n      <td>USD</td>\n    </tr>\n    <tr>\n      <th>16</th>\n      <td>ttwo</td>\n      <td>2020-04-01</td>\n      <td>2020-06-30</td>\n      <td>incomelossfromcontinuingoperationsbeforeincome...</td>\n      <td>90361000.0</td>\n      <td>USD</td>\n    </tr>\n    <tr>\n      <th>17</th>\n      <td>ttwo</td>\n      <td>2019-04-01</td>\n      <td>2019-06-30</td>\n      <td>incomelossfromcontinuingoperationsbeforeincome...</td>\n      <td>62155000.0</td>\n      <td>USD</td>\n    </tr>\n    <tr>\n      <th>18</th>\n      <td>ttwo</td>\n      <td>2020-04-01</td>\n      <td>2020-06-30</td>\n      <td>netincomeloss</td>\n      <td>88505000.0</td>\n      <td>USD</td>\n    </tr>\n    <tr>\n      <th>19</th>\n      <td>ttwo</td>\n      <td>2019-04-01</td>\n      <td>2019-06-30</td>\n      <td>netincomeloss</td>\n      <td>46280000.0</td>\n      <td>USD</td>\n    </tr>\n    <tr>\n      <th>20</th>\n      <td>ttwo</td>\n      <td>2020-04-01</td>\n      <td>2020-06-30</td>\n      <td>weightedaveragenumberofsharesoutstandingbasic</td>\n      <td>113862000.0</td>\n      <td>SHARES</td>\n    </tr>\n    <tr>\n      <th>21</th>\n      <td>ttwo</td>\n      <td>2019-04-01</td>\n      <td>2019-06-30</td>\n      <td>weightedaveragenumberofsharesoutstandingbasic</td>\n      <td>112621000.0</td>\n      <td>SHARES</td>\n    </tr>\n    <tr>\n      <th>22</th>\n      <td>ttwo</td>\n      <td>2020-04-01</td>\n      <td>2020-06-30</td>\n      <td>weightedaveragenumberofdilutedsharesoutstanding</td>\n      <td>114956000.0</td>\n      <td>SHARES</td>\n    </tr>\n    <tr>\n      <th>23</th>\n      <td>ttwo</td>\n      <td>2019-04-01</td>\n      <td>2019-06-30</td>\n      <td>weightedaveragenumberofdilutedsharesoutstanding</td>\n      <td>113728000.0</td>\n      <td>SHARES</td>\n    </tr>\n  </tbody>\n</table>\n</div>"
     },
     "metadata": {},
     "execution_count": 47
    }
   ],
   "source": [
    "# revenue_component_tags = soup.find_all(name=re.compile(f\"{ticker}:Revenue.*\", re.IGNORECASE))\n",
    "    # <ticker>:<category>Cost\n",
    "    #      - OR -\n",
    "    #     <ticker>:CostOfSales<category>\n",
    "\n",
    "\n",
    "income_statement_attributes = [\n",
    "    'us-gaap:Revenues',\n",
    "    'us-gaap:CostOfGoodsAndServicesSoldAmortization',\n",
    "    'us-gaap:CostOfGoodsAndServicesSold',\n",
    "    'us-gaap:GrossProfit',\n",
    "    'us-gaap:ResearchAndDevelopmentExpenseExcludingAcquiredInProcessCost',\n",
    "    'us-gaap:SellingAndMarketingExpense',\n",
    "    'us-gaap:GeneralAndAdministrativeExpense',\n",
    "    'us-gaap:DepreciationAndAmortization',\n",
    "    'us-gaap:BusinessCombinationAcquisitionRelatedCosts',\n",
    "    'us-gaap:RestructuringAndRelatedCostIncurredCost',\n",
    "    'us-gaap:OperatingExpenses',\n",
    "    'us-gaap:OperatingIncomeLoss',\n",
    "    'us-gaap:InvestmentIncomeInterest',\n",
    "    \"us-gaap:InterestExpense\",\n",
    "    'us-gaap:OtherNonoperatingIncomeExpense',\n",
    "        'us-gaap:IncomeLossFromContinuingOperationsBeforeIncomeTaxesMinorityInterestAndIncomeLossFromEquityMethodInvestments',\n",
    "    'us-gaap:IncomeTaxExpenseBenefit',\n",
    "    'us-gaap:IncomeLossFromContinuingOperations',\n",
    "    'us-gaap:IncomeLossFromDiscontinuedOperationsNetOfTaxAttributableToReportingEntity',\n",
    "    'us-gaap:NetIncomeLoss',\n",
    "\n",
    "        'us-gaap:IncomeLossFromContinuingOperationsPerBasicShare',\n",
    "        'us-gaap:DiscontinuedOperationIncomeLossFromDiscontinuedOperationNetOfTaxPerBasicShare',\n",
    "        'us-gaap:EarningsPerShareBasic',\n",
    "\n",
    "        'us-gaap:IncomeLossFromContinuingOperationsPerDilutedShare',\n",
    "        'us-gaap:DiscontinuedOperationIncomeLossFromDiscontinuedOperationNetOfTaxPerDilutedShare',\n",
    "        'us-gaap:EarningsPerShareDiluted',\n",
    "\n",
    "        'us-gaap:WeightedAverageNumberOfSharesOutstandingBasic',\n",
    "        'us-gaap:WeightedAverageNumberOfDilutedSharesOutstanding',\n",
    "]\n",
    "income_statement_df = _get_attribute_values_df(soup,income_statement_attributes,ticker)\n",
    "income_statement_df"
   ]
  },
  {
   "cell_type": "code",
   "execution_count": 3,
   "metadata": {},
   "outputs": [],
   "source": [
    "# Form 4\n",
    "file_name = 'F:/data/edgar/cache/xbrl/AquaBounty_Technologies_Inc__4_20191031.xml'\n",
    "with open(file_name, mode='r') as fin:\n",
    "    contents = fin.read()\n",
    "soup = BeautifulSoup(contents, 'lxml')"
   ]
  },
  {
   "cell_type": "code",
   "execution_count": 4,
   "metadata": {
    "tags": []
   },
   "outputs": [],
   "source": [
    "report_date = dt.datetime.strptime(soup.find('periodofreport').text, '%Y-%m-%d').date()"
   ]
  },
  {
   "cell_type": "code",
   "execution_count": 5,
   "metadata": {},
   "outputs": [
    {
     "output_type": "execute_result",
     "data": {
      "text/plain": [
       "'KIRK RANDAL J'"
      ]
     },
     "metadata": {},
     "execution_count": 5
    }
   ],
   "source": [
    "# Get info on the party that this filing pertains to\n",
    "owner_element = soup.find('reportingowner')\n",
    "owner_name = owner_element.find('reportingownerid').find('rptownername').text"
   ]
  },
  {
   "cell_type": "code",
   "execution_count": 6,
   "metadata": {},
   "outputs": [
    {
     "output_type": "execute_result",
     "data": {
      "text/plain": [
       "{'director': False, 'officer': False, 'tenpercentowner': True, 'other': False}"
      ]
     },
     "metadata": {},
     "execution_count": 6
    }
   ],
   "source": [
    "relationship_element = owner_element.find('reportingownerrelationship')\n",
    "relationship = {}\n",
    "if relationship_element is not None:\n",
    "    for relationship_type in ['director', 'officer', 'tenpercentowner', 'other']:\n",
    "        flag = relationship_element.find(f'is{relationship_type}').text\n",
    "        relationship[relationship_type] = flag == '1'\n",
    "    \n",
    "    officer_title_element = relationship_element.find('officertitle')\n",
    "    if officer_title_element is not None:\n",
    "        officer_title = officer_title_element.text.strip()\n",
    "        if officer_title.lower() == 'see remarks':\n",
    "            officer_title = soup.find('remarks').text\n",
    "        if officer_title:\n",
    "            relationship['officer_title']=officer_title\n",
    "    \n",
    "    other_text_element=relationship_element.find('othertext')\n",
    "    if other_text_element is not None:\n",
    "        other_text=other_text_element.text.strip()\n",
    "        if other_text:\n",
    "            relationship['other_text']=other_text\n",
    "\n",
    "relationship\n"
   ]
  },
  {
   "cell_type": "code",
   "execution_count": null,
   "metadata": {},
   "outputs": [],
   "source": [
    "# Get the detail of all transactions"
   ]
  }
 ]
}