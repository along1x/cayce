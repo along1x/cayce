{
 "metadata": {
  "language_info": {
   "codemirror_mode": {
    "name": "ipython",
    "version": 3
   },
   "file_extension": ".py",
   "mimetype": "text/x-python",
   "name": "python",
   "nbconvert_exporter": "python",
   "pygments_lexer": "ipython3",
   "version": "3.7.7-final"
  },
  "orig_nbformat": 2,
  "kernelspec": {
   "name": "Python 3.7.7 64-bit ('finance': conda)",
   "display_name": "Python 3.7.7 64-bit ('finance': conda)",
   "metadata": {
    "interpreter": {
     "hash": "ba9eb2eb6e8a67581b0f036b4c1f5dd4ba74dee22066a7e75e302e9dedb5714d"
    }
   }
  }
 },
 "nbformat": 4,
 "nbformat_minor": 2,
 "cells": [
  {
   "cell_type": "code",
   "execution_count": 1,
   "metadata": {},
   "outputs": [],
   "source": [
    "import sys\n",
    "\n",
    "project_root = (\n",
    "    \"/media/andrew/E4AB-09ED/Dev/py/cayce\"\n",
    "    if sys.platform == \"linux\"\n",
    "    else \"F:/Dev/py/cayce\"\n",
    ")\n",
    "if project_root not in sys.path:\n",
    "    sys.path.append(project_root)"
   ]
  },
  {
   "cell_type": "code",
   "execution_count": 11,
   "metadata": {},
   "outputs": [],
   "source": [
    "import datetime as dt\n",
    "\n",
    "from cayce.cik import get_ticker_to_cik_map\n",
    "from cayce.query import EdgarIndex\n",
    "from cayce.xbrl import FinancialStatementsParser"
   ]
  },
  {
   "cell_type": "code",
   "execution_count": 9,
   "metadata": {
    "tags": []
   },
   "outputs": [
    {
     "output_type": "stream",
     "name": "stdout",
     "text": "Loading statements for TSLA ( 1318605 )\n"
    }
   ],
   "source": [
    "# First, let's name our security and identify the CIK code for it\n",
    "ticker = \"TSLA\"\n",
    "cik_code = get_ticker_to_cik_map()[ticker]\n",
    "print(\"Loading statements for\", ticker, \"(\", cik_code, \")\")"
   ]
  },
  {
   "cell_type": "code",
   "execution_count": 10,
   "metadata": {},
   "outputs": [],
   "source": [
    "# set up an index for Edgar data\n",
    "index = EdgarIndex()"
   ]
  },
  {
   "cell_type": "code",
   "execution_count": 14,
   "metadata": {
    "tags": []
   },
   "outputs": [
    {
     "output_type": "stream",
     "name": "stderr",
     "text": "2020-10-04 22:40:20,809 : query._download_index : INFO : Using cached file C:\\Users\\Andrew\\AppData\\Local\\Temp\\tmp0qewkgvu\\2020-4-index.zip\n"
    },
    {
     "output_type": "execute_result",
     "data": {
      "text/plain": "            company  ...                                    file_name\n494874  Tesla, Inc.  ...  edgar/data/1318605/0001564590-20-004475.txt\n\n[1 rows x 5 columns]",
      "text/html": "<div>\n<style scoped>\n    .dataframe tbody tr th:only-of-type {\n        vertical-align: middle;\n    }\n\n    .dataframe tbody tr th {\n        vertical-align: top;\n    }\n\n    .dataframe thead th {\n        text-align: right;\n    }\n</style>\n<table border=\"1\" class=\"dataframe\">\n  <thead>\n    <tr style=\"text-align: right;\">\n      <th></th>\n      <th>company</th>\n      <th>form_type</th>\n      <th>cik</th>\n      <th>date_filed</th>\n      <th>file_name</th>\n    </tr>\n  </thead>\n  <tbody>\n    <tr>\n      <th>494874</th>\n      <td>Tesla, Inc.</td>\n      <td>10-K</td>\n      <td>1318605</td>\n      <td>2020-02-13</td>\n      <td>edgar/data/1318605/0001564590-20-004475.txt</td>\n    </tr>\n  </tbody>\n</table>\n</div>"
     },
     "metadata": {},
     "execution_count": 14
    }
   ],
   "source": [
    "# query for 10-Ks and 8-Ks in the past year\n",
    "search_results = index.search(start_date=dt.date.today() - dt.timedelta(days=365), end_date=dt.date.today(), ciks=cik_code, form_types='10-K')\n",
    "search_results"
   ]
  },
  {
   "cell_type": "code",
   "execution_count": 18,
   "metadata": {},
   "outputs": [
    {
     "output_type": "execute_result",
     "data": {
      "text/plain": "company                                       Tesla, Inc.\nform_type                                            10-K\ncik                                               1318605\ndate_filed                            2020-02-13 00:00:00\nfile_name     edgar/data/1318605/0001564590-20-004475.txt\nName: 494874, dtype: object"
     },
     "metadata": {},
     "execution_count": 18
    }
   ],
   "source": [
    "search_results.iloc[0, :]"
   ]
  },
  {
   "cell_type": "code",
   "execution_count": 19,
   "metadata": {
    "tags": []
   },
   "outputs": [
    {
     "output_type": "stream",
     "name": "stderr",
     "text": "2020-10-04 22:44:45,246 : query.download_xbrl : INFO : Begin downloading Tesla, Inc. form 10-K for 2020-02-13\n2020-10-04 22:44:46,638 : query.download_xbrl : INFO : Writing local cache file C:\\Users\\Andrew\\AppData\\Local\\Temp\\tmp0qewkgvu\\Tesla_Inc__10-K_20200213.xml\nC:\\Users\\Andrew\\AppData\\Local\\Temp\\tmp0qewkgvu\\Tesla_Inc__10-K_20200213.xml\n"
    }
   ],
   "source": [
    "# download the XBRL file locally\n",
    "local_xbrl_file = index.download_xbrl(search_results.iloc[0, :].values)\n",
    "local_xbrl_file"
   ]
  },
  {
   "cell_type": "code",
   "execution_count": 27,
   "metadata": {},
   "outputs": [
    {
     "output_type": "execute_result",
     "data": {
      "text/plain": "&#39;10-K&#39;"
     },
     "metadata": {},
     "execution_count": 27
    }
   ],
   "source": [
    "search_results.iloc[0, :].form_type"
   ]
  },
  {
   "cell_type": "code",
   "execution_count": 29,
   "metadata": {},
   "outputs": [
    {
     "output_type": "execute_result",
     "data": {
      "text/plain": "  period_start  period_end  ... Ticker Category\n0   2019-01-01  2019-12-31  ...   TSLA      DEI\n1   2019-01-01  2019-12-31  ...   TSLA      DEI\n2   2019-01-01  2019-12-31  ...   TSLA      DEI\n3   2019-01-01  2019-12-31  ...   TSLA      DEI\n4   2019-01-01  2019-12-31  ...   TSLA      DEI\n5         None  2020-02-07  ...   TSLA      DEI\n6   2019-01-01  2019-12-31  ...   TSLA   Income\n7   2018-01-01  2018-12-31  ...   TSLA   Income\n8   2017-01-01  2017-12-31  ...   TSLA   Income\n9   2019-01-01  2019-03-31  ...   TSLA   Income\n\n[10 rows x 7 columns]",
      "text/html": "<div>\n<style scoped>\n    .dataframe tbody tr th:only-of-type {\n        vertical-align: middle;\n    }\n\n    .dataframe tbody tr th {\n        vertical-align: top;\n    }\n\n    .dataframe thead th {\n        text-align: right;\n    }\n</style>\n<table border=\"1\" class=\"dataframe\">\n  <thead>\n    <tr style=\"text-align: right;\">\n      <th></th>\n      <th>period_start</th>\n      <th>period_end</th>\n      <th>attribute_name</th>\n      <th>attribute_value</th>\n      <th>currency</th>\n      <th>Ticker</th>\n      <th>Category</th>\n    </tr>\n  </thead>\n  <tbody>\n    <tr>\n      <th>0</th>\n      <td>2019-01-01</td>\n      <td>2019-12-31</td>\n      <td>documenttype</td>\n      <td>10-K</td>\n      <td>None</td>\n      <td>TSLA</td>\n      <td>DEI</td>\n    </tr>\n    <tr>\n      <th>1</th>\n      <td>2019-01-01</td>\n      <td>2019-12-31</td>\n      <td>documentperiodenddate</td>\n      <td>2019-12-31</td>\n      <td>None</td>\n      <td>TSLA</td>\n      <td>DEI</td>\n    </tr>\n    <tr>\n      <th>2</th>\n      <td>2019-01-01</td>\n      <td>2019-12-31</td>\n      <td>entityregistrantname</td>\n      <td>Tesla, Inc.</td>\n      <td>None</td>\n      <td>TSLA</td>\n      <td>DEI</td>\n    </tr>\n    <tr>\n      <th>3</th>\n      <td>2019-01-01</td>\n      <td>2019-12-31</td>\n      <td>tradingsymbol</td>\n      <td>TSLA</td>\n      <td>None</td>\n      <td>TSLA</td>\n      <td>DEI</td>\n    </tr>\n    <tr>\n      <th>4</th>\n      <td>2019-01-01</td>\n      <td>2019-12-31</td>\n      <td>securityexchangename</td>\n      <td>NASDAQ</td>\n      <td>None</td>\n      <td>TSLA</td>\n      <td>DEI</td>\n    </tr>\n    <tr>\n      <th>5</th>\n      <td>None</td>\n      <td>2020-02-07</td>\n      <td>entitycommonstocksharesoutstanding</td>\n      <td>1.81342e+08</td>\n      <td>U_XBRLISHARES</td>\n      <td>TSLA</td>\n      <td>DEI</td>\n    </tr>\n    <tr>\n      <th>6</th>\n      <td>2019-01-01</td>\n      <td>2019-12-31</td>\n      <td>revenues</td>\n      <td>2.4578e+10</td>\n      <td>U_ISO4217USD</td>\n      <td>TSLA</td>\n      <td>Income</td>\n    </tr>\n    <tr>\n      <th>7</th>\n      <td>2018-01-01</td>\n      <td>2018-12-31</td>\n      <td>revenues</td>\n      <td>2.1461e+10</td>\n      <td>U_ISO4217USD</td>\n      <td>TSLA</td>\n      <td>Income</td>\n    </tr>\n    <tr>\n      <th>8</th>\n      <td>2017-01-01</td>\n      <td>2017-12-31</td>\n      <td>revenues</td>\n      <td>1.1759e+10</td>\n      <td>U_ISO4217USD</td>\n      <td>TSLA</td>\n      <td>Income</td>\n    </tr>\n    <tr>\n      <th>9</th>\n      <td>2019-01-01</td>\n      <td>2019-03-31</td>\n      <td>revenues</td>\n      <td>4.541e+09</td>\n      <td>U_ISO4217USD</td>\n      <td>TSLA</td>\n      <td>Income</td>\n    </tr>\n  </tbody>\n</table>\n</div>"
     },
     "metadata": {},
     "execution_count": 29
    }
   ],
   "source": [
    "# specify where to write this data to disk\n",
    "from tempfile import gettempdir\n",
    "from os import path\n",
    "local_csv = path.join(gettempdir(), f\"{ticker}_{search_results.iloc[0, :].form_type}_{search_results.iloc[0, :].date_filed:%Y-%m-%d}.csv\")\n",
    "\n",
    "# parse the xbrl file\n",
    "statement_parser = FinancialStatementsParser(ticker, local_xbrl_file)\n",
    "statements_df = statement_parser.parse_all()\n",
    "\n",
    "# save and print to console, depending on how you wish to proceed\n",
    "statements_df.head(10)\n",
    "print(\"Writing to\", local_csv)\n",
    "statements_df.to_csv(local_csv)"
   ]
  }
 ]
}