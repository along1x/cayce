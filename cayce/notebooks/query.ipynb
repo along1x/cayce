{
 "metadata": {
  "language_info": {
   "codemirror_mode": {
    "name": "ipython",
    "version": 3
   },
   "file_extension": ".py",
   "mimetype": "text/x-python",
   "name": "python",
   "nbconvert_exporter": "python",
   "pygments_lexer": "ipython3",
   "version": "3.7.7-final"
  },
  "orig_nbformat": 2,
  "kernelspec": {
   "name": "python_defaultSpec_1600652044587",
   "display_name": "Python 3.7.7 64-bit ('finance': conda)"
  }
 },
 "nbformat": 4,
 "nbformat_minor": 2,
 "cells": [
  {
   "cell_type": "code",
   "execution_count": 1,
   "metadata": {},
   "outputs": [],
   "source": [
    "import requests\n",
    "import json\n",
    "from bs4 import BeautifulSoup\n",
    "import datetime as dt\n",
    "import pandas as pd"
   ]
  },
  {
   "cell_type": "code",
   "execution_count": 2,
   "metadata": {},
   "outputs": [],
   "source": [
    "query_params = 'ciks=0000320193&filter_forms=10-Q&startdt=2000-01-01&enddt=2020-03-31'\n",
    "base_url = 'https://www.sec.gov/edgar/search/#/'\n",
    "url = base_url + query_params"
   ]
  },
  {
   "cell_type": "code",
   "execution_count": 3,
   "metadata": {},
   "outputs": [],
   "source": [
    "content = requests.get(url).content.decode('utf-8')"
   ]
  },
  {
   "cell_type": "code",
   "execution_count": 5,
   "metadata": {},
   "outputs": [],
   "source": [
    "soup = BeautifulSoup(content)"
   ]
  },
  {
   "cell_type": "code",
   "execution_count": 7,
   "metadata": {},
   "outputs": [],
   "source": [
    "with open('f:/data/edgar-search-example.html', 'w') as writer:\n",
    "    writer.write(content)"
   ]
  },
  {
   "cell_type": "code",
   "execution_count": 24,
   "metadata": {},
   "outputs": [],
   "source": [
    "def split_fixed_length(s, lengths, strip=True):\n",
    "    def get_value(v):\n",
    "        return v.strip() if strip else v\n",
    "    start_idx = 0\n",
    "    for length in lengths:\n",
    "        end_idx = start_idx + length\n",
    "        yield get_value(s[start_idx:end_idx])\n",
    "        start_idx = end_idx\n",
    "    \n",
    "    if end_idx < len(s):\n",
    "        yield get_value(s[end_idx:])"
   ]
  },
  {
   "cell_type": "code",
   "execution_count": 25,
   "metadata": {
    "tags": []
   },
   "outputs": [],
   "source": [
    "data = []\n",
    "with open('e:/Google Drive Backup/company (1).idx') as f:\n",
    "    header = True\n",
    "    for line in f.readlines():\n",
    "        # skip past all header rows\n",
    "        if header:\n",
    "            if line.startswith('-------'):\n",
    "                header=False\n",
    "            continue\n",
    "\n",
    "        data.append(split_fixed_length(line, [62,12,12,12]))\n",
    "df = pd.DataFrame(data, columns=['company', 'form_type', 'cik', 'date_filed', 'file_name'])"
   ]
  },
  {
   "cell_type": "code",
   "execution_count": 27,
   "metadata": {
    "tags": []
   },
   "outputs": [
    {
     "output_type": "execute_result",
     "data": {
      "text/plain": "          company form_type     cik  date_filed  \\\n21933  Apple Inc.      10-Q  320193  2020-01-29   \n21934  Apple Inc.         4  320193  2020-01-02   \n21935  Apple Inc.         4  320193  2020-01-29   \n21936  Apple Inc.         4  320193  2020-02-04   \n21937  Apple Inc.         4  320193  2020-02-04   \n21938  Apple Inc.         4  320193  2020-02-04   \n21939  Apple Inc.         4  320193  2020-02-04   \n21940  Apple Inc.         4  320193  2020-02-04   \n21941  Apple Inc.         4  320193  2020-02-04   \n21942  Apple Inc.         4  320193  2020-02-28   \n21943  Apple Inc.         4  320193  2020-02-28   \n21944  Apple Inc.         4  320193  2020-02-28   \n21945  Apple Inc.         4  320193  2020-02-28   \n21946  Apple Inc.         4  320193  2020-02-28   \n21947  Apple Inc.         4  320193  2020-02-28   \n21948  Apple Inc.       8-K  320193  2020-01-28   \n21949  Apple Inc.       8-K  320193  2020-02-18   \n21950  Apple Inc.       8-K  320193  2020-02-27   \n21951  Apple Inc.   DEF 14A  320193  2020-01-03   \n21952  Apple Inc.   DEFA14A  320193  2020-01-03   \n21953  Apple Inc.   PX14A6G  320193  2020-01-22   \n21954  Apple Inc.   PX14A6G  320193  2020-01-27   \n21955  Apple Inc.  SC 13G/A  320193  2020-02-10   \n21956  Apple Inc.  SC 13G/A  320193  2020-02-12   \n21957  Apple Inc.  SC 13G/A  320193  2020-02-14   \n21958  Apple Inc.        SD  320193  2020-02-06   \n\n                                        file_name  \n21933  edgar/data/320193/0000320193-20-000010.txt  \n21934  edgar/data/320193/0000320193-20-000002.txt  \n21935  edgar/data/320193/0000320193-20-000011.txt  \n21936  edgar/data/320193/0000320193-20-000018.txt  \n21937  edgar/data/320193/0000320193-20-000019.txt  \n21938  edgar/data/320193/0000320193-20-000020.txt  \n21939  edgar/data/320193/0000320193-20-000021.txt  \n21940  edgar/data/320193/0000320193-20-000022.txt  \n21941  edgar/data/320193/0000320193-20-000023.txt  \n21942  edgar/data/320193/0000320193-20-000030.txt  \n21943  edgar/data/320193/0000320193-20-000031.txt  \n21944  edgar/data/320193/0000320193-20-000032.txt  \n21945  edgar/data/320193/0000320193-20-000033.txt  \n21946  edgar/data/320193/0000320193-20-000034.txt  \n21947  edgar/data/320193/0000320193-20-000035.txt  \n21948  edgar/data/320193/0000320193-20-000008.txt  \n21949  edgar/data/320193/0001193125-20-039203.txt  \n21950  edgar/data/320193/0001193125-20-050884.txt  \n21951  edgar/data/320193/0001193125-20-001450.txt  \n21952  edgar/data/320193/0001193125-20-001452.txt  \n21953  edgar/data/320193/0001387131-20-000386.txt  \n21954  edgar/data/320193/0001214659-20-000610.txt  \n21955  edgar/data/320193/0000834237-20-008795.txt  \n21956  edgar/data/320193/0001104659-20-018528.txt  \n21957  edgar/data/320193/0001193125-20-038381.txt  \n21958  edgar/data/320193/0001193125-20-026822.txt  ",
      "text/html": "<div>\n<style scoped>\n    .dataframe tbody tr th:only-of-type {\n        vertical-align: middle;\n    }\n\n    .dataframe tbody tr th {\n        vertical-align: top;\n    }\n\n    .dataframe thead th {\n        text-align: right;\n    }\n</style>\n<table border=\"1\" class=\"dataframe\">\n  <thead>\n    <tr style=\"text-align: right;\">\n      <th></th>\n      <th>company</th>\n      <th>form_type</th>\n      <th>cik</th>\n      <th>date_filed</th>\n      <th>file_name</th>\n    </tr>\n  </thead>\n  <tbody>\n    <tr>\n      <th>21933</th>\n      <td>Apple Inc.</td>\n      <td>10-Q</td>\n      <td>320193</td>\n      <td>2020-01-29</td>\n      <td>edgar/data/320193/0000320193-20-000010.txt</td>\n    </tr>\n    <tr>\n      <th>21934</th>\n      <td>Apple Inc.</td>\n      <td>4</td>\n      <td>320193</td>\n      <td>2020-01-02</td>\n      <td>edgar/data/320193/0000320193-20-000002.txt</td>\n    </tr>\n    <tr>\n      <th>21935</th>\n      <td>Apple Inc.</td>\n      <td>4</td>\n      <td>320193</td>\n      <td>2020-01-29</td>\n      <td>edgar/data/320193/0000320193-20-000011.txt</td>\n    </tr>\n    <tr>\n      <th>21936</th>\n      <td>Apple Inc.</td>\n      <td>4</td>\n      <td>320193</td>\n      <td>2020-02-04</td>\n      <td>edgar/data/320193/0000320193-20-000018.txt</td>\n    </tr>\n    <tr>\n      <th>21937</th>\n      <td>Apple Inc.</td>\n      <td>4</td>\n      <td>320193</td>\n      <td>2020-02-04</td>\n      <td>edgar/data/320193/0000320193-20-000019.txt</td>\n    </tr>\n    <tr>\n      <th>21938</th>\n      <td>Apple Inc.</td>\n      <td>4</td>\n      <td>320193</td>\n      <td>2020-02-04</td>\n      <td>edgar/data/320193/0000320193-20-000020.txt</td>\n    </tr>\n    <tr>\n      <th>21939</th>\n      <td>Apple Inc.</td>\n      <td>4</td>\n      <td>320193</td>\n      <td>2020-02-04</td>\n      <td>edgar/data/320193/0000320193-20-000021.txt</td>\n    </tr>\n    <tr>\n      <th>21940</th>\n      <td>Apple Inc.</td>\n      <td>4</td>\n      <td>320193</td>\n      <td>2020-02-04</td>\n      <td>edgar/data/320193/0000320193-20-000022.txt</td>\n    </tr>\n    <tr>\n      <th>21941</th>\n      <td>Apple Inc.</td>\n      <td>4</td>\n      <td>320193</td>\n      <td>2020-02-04</td>\n      <td>edgar/data/320193/0000320193-20-000023.txt</td>\n    </tr>\n    <tr>\n      <th>21942</th>\n      <td>Apple Inc.</td>\n      <td>4</td>\n      <td>320193</td>\n      <td>2020-02-28</td>\n      <td>edgar/data/320193/0000320193-20-000030.txt</td>\n    </tr>\n    <tr>\n      <th>21943</th>\n      <td>Apple Inc.</td>\n      <td>4</td>\n      <td>320193</td>\n      <td>2020-02-28</td>\n      <td>edgar/data/320193/0000320193-20-000031.txt</td>\n    </tr>\n    <tr>\n      <th>21944</th>\n      <td>Apple Inc.</td>\n      <td>4</td>\n      <td>320193</td>\n      <td>2020-02-28</td>\n      <td>edgar/data/320193/0000320193-20-000032.txt</td>\n    </tr>\n    <tr>\n      <th>21945</th>\n      <td>Apple Inc.</td>\n      <td>4</td>\n      <td>320193</td>\n      <td>2020-02-28</td>\n      <td>edgar/data/320193/0000320193-20-000033.txt</td>\n    </tr>\n    <tr>\n      <th>21946</th>\n      <td>Apple Inc.</td>\n      <td>4</td>\n      <td>320193</td>\n      <td>2020-02-28</td>\n      <td>edgar/data/320193/0000320193-20-000034.txt</td>\n    </tr>\n    <tr>\n      <th>21947</th>\n      <td>Apple Inc.</td>\n      <td>4</td>\n      <td>320193</td>\n      <td>2020-02-28</td>\n      <td>edgar/data/320193/0000320193-20-000035.txt</td>\n    </tr>\n    <tr>\n      <th>21948</th>\n      <td>Apple Inc.</td>\n      <td>8-K</td>\n      <td>320193</td>\n      <td>2020-01-28</td>\n      <td>edgar/data/320193/0000320193-20-000008.txt</td>\n    </tr>\n    <tr>\n      <th>21949</th>\n      <td>Apple Inc.</td>\n      <td>8-K</td>\n      <td>320193</td>\n      <td>2020-02-18</td>\n      <td>edgar/data/320193/0001193125-20-039203.txt</td>\n    </tr>\n    <tr>\n      <th>21950</th>\n      <td>Apple Inc.</td>\n      <td>8-K</td>\n      <td>320193</td>\n      <td>2020-02-27</td>\n      <td>edgar/data/320193/0001193125-20-050884.txt</td>\n    </tr>\n    <tr>\n      <th>21951</th>\n      <td>Apple Inc.</td>\n      <td>DEF 14A</td>\n      <td>320193</td>\n      <td>2020-01-03</td>\n      <td>edgar/data/320193/0001193125-20-001450.txt</td>\n    </tr>\n    <tr>\n      <th>21952</th>\n      <td>Apple Inc.</td>\n      <td>DEFA14A</td>\n      <td>320193</td>\n      <td>2020-01-03</td>\n      <td>edgar/data/320193/0001193125-20-001452.txt</td>\n    </tr>\n    <tr>\n      <th>21953</th>\n      <td>Apple Inc.</td>\n      <td>PX14A6G</td>\n      <td>320193</td>\n      <td>2020-01-22</td>\n      <td>edgar/data/320193/0001387131-20-000386.txt</td>\n    </tr>\n    <tr>\n      <th>21954</th>\n      <td>Apple Inc.</td>\n      <td>PX14A6G</td>\n      <td>320193</td>\n      <td>2020-01-27</td>\n      <td>edgar/data/320193/0001214659-20-000610.txt</td>\n    </tr>\n    <tr>\n      <th>21955</th>\n      <td>Apple Inc.</td>\n      <td>SC 13G/A</td>\n      <td>320193</td>\n      <td>2020-02-10</td>\n      <td>edgar/data/320193/0000834237-20-008795.txt</td>\n    </tr>\n    <tr>\n      <th>21956</th>\n      <td>Apple Inc.</td>\n      <td>SC 13G/A</td>\n      <td>320193</td>\n      <td>2020-02-12</td>\n      <td>edgar/data/320193/0001104659-20-018528.txt</td>\n    </tr>\n    <tr>\n      <th>21957</th>\n      <td>Apple Inc.</td>\n      <td>SC 13G/A</td>\n      <td>320193</td>\n      <td>2020-02-14</td>\n      <td>edgar/data/320193/0001193125-20-038381.txt</td>\n    </tr>\n    <tr>\n      <th>21958</th>\n      <td>Apple Inc.</td>\n      <td>SD</td>\n      <td>320193</td>\n      <td>2020-02-06</td>\n      <td>edgar/data/320193/0001193125-20-026822.txt</td>\n    </tr>\n  </tbody>\n</table>\n</div>"
     },
     "metadata": {},
     "execution_count": 27
    }
   ],
   "source": [
    "df[df['cik'] == '320193']"
   ]
  },
  {
   "cell_type": "code",
   "execution_count": 29,
   "metadata": {
    "tags": []
   },
   "outputs": [
    {
     "output_type": "stream",
     "name": "stdout",
     "text": "nan nan\n"
    }
   ],
   "source": [
    "df = pd.DataFrame([], columns=['company', 'form_type', 'cik', 'date_filed', 'file_name'])\n",
    "min_dt = df['date_filed'].min()\n",
    "max_dt = df['date_filed'].max()\n",
    "print(min_dt, max_dt)"
   ]
  },
  {
   "cell_type": "code",
   "execution_count": 47,
   "metadata": {},
   "outputs": [
    {
     "output_type": "execute_result",
     "data": {
      "text/plain": "7"
     },
     "metadata": {},
     "execution_count": 47
    }
   ],
   "source": [
    "-5%12"
   ]
  }
 ]
}